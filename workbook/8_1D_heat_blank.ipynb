{
 "cells": [
  {
   "cell_type": "markdown",
   "metadata": {
    "editable": true,
    "slideshow": {
     "slide_type": ""
    },
    "tags": [
     "remove-output"
    ]
   },
   "source": [
    "# 1D heat conduction equation - Your turn"
   ]
  },
  {
   "cell_type": "markdown",
   "metadata": {},
   "source": [
    "A rod of length $2$ has the following initial and boundary temperature conditions: $T(x,0) = 50$, $T(0,t) = 0$, and $T(2,t) = 100$.\n",
    "The solution to the heat conduction equation $\\lambda \\dfrac{\\partial^2 T}{\\partial x^2} + q = \\dfrac{\\partial T}{\\partial t}$ with $\\lambda=1$, is:\n",
    "\n",
    "$$ T(x,t) = 50x + \\sum_{n=\\text{even},\\neq 0}^{\\infty} \\dfrac{200}{n \\pi} \\sin \\left( \\dfrac{n\\pi x}{2} \\right) e^{-\\frac{n^2 \\pi^2}{4}t} $$\n",
    "\n",
    "Plot the temperature distribution of the rod at $t = 0$, $0.05$, $0.1$, and $0.5$."
   ]
  },
  {
   "cell_type": "code",
   "execution_count": null,
   "metadata": {
    "editable": true,
    "slideshow": {
     "slide_type": ""
    },
    "tags": [
     "remove-output"
    ]
   },
   "outputs": [],
   "source": [
    "# TODO: Write your solution below\n"
   ]
  },
  {
   "cell_type": "markdown",
   "metadata": {},
   "source": [
    "## Exporting your work\n",
    "\n",
    "When you're ready, the easiest way to export the notebook is to `File > Print` it and save it as a PDF. \n",
    "Remove any excessively long, unrelated outputs first by clicking the arrow → next to the output box and then `Show/hide output`. \n",
    "Obviously don't obscure any necessary output or graphs!"
   ]
  }
 ],
 "metadata": {
  "kernelspec": {
   "display_name": "Python 3 (ipykernel)",
   "language": "python",
   "name": "python3"
  },
  "language_info": {
   "codemirror_mode": {
    "name": "ipython",
    "version": 3
   },
   "file_extension": ".py",
   "mimetype": "text/x-python",
   "name": "python",
   "nbconvert_exporter": "python",
   "pygments_lexer": "ipython3",
   "version": "3.12.9"
  },
  "widgets": {
   "application/vnd.jupyter.widget-state+json": {
    "state": {},
    "version_major": 2,
    "version_minor": 0
   }
  }
 },
 "nbformat": 4,
 "nbformat_minor": 4
}
