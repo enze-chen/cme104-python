{
 "cells": [
  {
   "cell_type": "markdown",
   "metadata": {
    "editable": true,
    "slideshow": {
     "slide_type": ""
    },
    "tags": [
     "remove-output"
    ]
   },
   "source": [
    "# Matrices and vectors - Your turn\n",
    "\n",
    "```{note}\n",
    "Click the {fa}`rocket` and open this notebook in Colab to enable interactivity.\n",
    "```\n",
    "\n",
    "```{note}\n",
    "To save your progress, make a copy of this notebook in Colab `File > Save a copy in Drive` and you'll find it in `My Drive > Colab Notebooks`.\n",
    "```"
   ]
  },
  {
   "cell_type": "markdown",
   "metadata": {},
   "source": [
    "## Part (a)\n",
    "\n",
    "Find the dot product between the first and second rows of matrix $ C = \\begin{bmatrix} 5 & 2 & 1 \\\\ 5 & 3 & -1 \\end{bmatrix}$."
   ]
  },
  {
   "cell_type": "code",
   "execution_count": null,
   "metadata": {
    "editable": true,
    "slideshow": {
     "slide_type": ""
    },
    "tags": [
     "remove-output"
    ]
   },
   "outputs": [],
   "source": [
    "# TODO: Write your solution below\n"
   ]
  },
  {
   "cell_type": "markdown",
   "metadata": {},
   "source": [
    "## Part (b)\n",
    "\n",
    "Compute $B^T A^T - B^T$ using the matrices $A = \\begin{bmatrix} 1 & 2 \\\\ -1 & 3 \\end{bmatrix}$ and $B = \\begin{bmatrix} 1 & 0 & 1 \\\\ 2 & 1 & 0 \\end{bmatrix}$."
   ]
  },
  {
   "cell_type": "code",
   "execution_count": null,
   "metadata": {},
   "outputs": [],
   "source": [
    "# TODO: Write your solution below\n"
   ]
  },
  {
   "cell_type": "markdown",
   "metadata": {},
   "source": [
    "## Part (c)\n",
    "\n",
    "A rectangle is formed by the four vertices:\n",
    "$(1,0)$, $(5,0)$, $(5,2)$, and $(1,2)$.\n",
    "Compute the coordinates of each vertex after a rotation of $60^{\\circ}$ (or $\\frac{\\pi}{3}$ rad) using a rotation matrix $R$.\n",
    "Plot the rectangle before and after the rotation.\n",
    "\n",
    "Hint 1: For a counter-clockwise rotation from point $A\\,(x_A, y_A)$ to $B\\,(x_B, y_B)$ about the origin through an angle $\\theta$, it is given by:\n",
    "\n",
    "$$ \\begin{bmatrix} x_B \\\\ y_B \\end{bmatrix} = R \\begin{bmatrix} x_A \\\\ y_A \\end{bmatrix} \\quad \\text{with} \\quad R = \\begin{bmatrix} \\cos \\theta & -\\sin \\theta \\\\ \\sin \\theta & \\cos \\theta \\end{bmatrix} $$\n",
    "\n",
    "Hint 2: To plot any set of points linked together in Python, create a matrix whose first row contains the $x$-components of each point and the second row the $y$-components.\n",
    "Then plot the first line versus the second one.\n",
    "To close your rectangles, use the first vertex as first and last point.\n",
    "\n",
    "Hint 3: You may want to add the line `ax.set(aspect='equal')` for your axes, just so you get the rectangle you expect!"
   ]
  },
  {
   "cell_type": "code",
   "execution_count": null,
   "metadata": {},
   "outputs": [],
   "source": [
    "# TODO: Write your solution below\n"
   ]
  },
  {
   "cell_type": "markdown",
   "metadata": {},
   "source": [
    "## Part (d)\n",
    "\n",
    "Each year, a college accepts $1000$ freshmen and $200$ sophomores into the school.\n",
    "Also, $10\\%$ of the freshmen, $25\\%$ of the sophomores, $5\\%$ of the juniors, and $5\\%$ of the seniors repeat their year.\n",
    "The rest continue their studies.\n",
    "If there are $1160$ freshmen, $1057$ sophomores, $1183$ juniors, and $1028$ seniors this year and the trend holds, what is the school population in $10$ years?\n",
    "The system of equations to use is as follows:\n",
    "\n",
    "$$ \\begin{align*}\n",
    "x_1(t+1) &= 0.1 x_1(t) + 1000 \\\\\n",
    "x_2(t+1) &= 0.9 x_1(t) + 0.25 x_2(t) + 200 \\\\\n",
    "x_3(t+1) &= 0.75 x_2(t) + 0.05 x_3(t) \\\\\n",
    "x_4(t+1) &= 0.95 x_3(t) + 0.05 x_4(t)\n",
    "\\end{align*} $$\n",
    "\n",
    "where the number is indicative of the student's year in college ($1$ = freshmen,\n",
    "$2$ = sophomore, etc).\n",
    "From the equations, we can derive an equation\n",
    "$x^{(t+1)} = A x^{(t)} + b$ with\n",
    "\n",
    "$$ A = \\begin{bmatrix} 0.1 & 0 & 0 & 0 \\\\ 0.9 & 0.25 & 0 & 0 \\\\ 0 & 0.75 & 0.05 & 0 \\\\ 0 & 0 & 0.95 & 0.05 \\end{bmatrix}, \\qquad b = \\begin{bmatrix} 1000 \\\\ 200 \\\\ 0 \\\\ 0 \\end{bmatrix}, \\qquad x_0 = \\begin{bmatrix} 1160 \\\\ 1057 \\\\ 1183 \\\\ 1028 \\end{bmatrix} $$\n",
    "\n",
    "Hint: When displaying the final population vector, use the `np.round()` function to display integral values.\n",
    "We cannot have partial students."
   ]
  },
  {
   "cell_type": "code",
   "execution_count": null,
   "metadata": {},
   "outputs": [],
   "source": [
    "# TODO: Write your solution below\n"
   ]
  },
  {
   "cell_type": "markdown",
   "metadata": {},
   "source": [
    "## Exporting your work\n",
    "\n",
    "When you're ready, the easiest way to export the notebook is to `File > Print` it and save it as a PDF. \n",
    "Remove any excessively long, unrelated outputs first by clicking the arrow → next to the output box and then `Show/hide output`. \n",
    "Obviously don't obscure any necessary output or graphs!"
   ]
  }
 ],
 "metadata": {
  "kernelspec": {
   "display_name": "Python 3 (ipykernel)",
   "language": "python",
   "name": "python3"
  },
  "language_info": {
   "codemirror_mode": {
    "name": "ipython",
    "version": 3
   },
   "file_extension": ".py",
   "mimetype": "text/x-python",
   "name": "python",
   "nbconvert_exporter": "python",
   "pygments_lexer": "ipython3",
   "version": "3.12.9"
  },
  "widgets": {
   "application/vnd.jupyter.widget-state+json": {
    "state": {},
    "version_major": 2,
    "version_minor": 0
   }
  }
 },
 "nbformat": 4,
 "nbformat_minor": 4
}
