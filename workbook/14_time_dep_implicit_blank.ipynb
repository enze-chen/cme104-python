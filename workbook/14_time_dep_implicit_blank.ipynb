{
 "cells": [
  {
   "cell_type": "markdown",
   "metadata": {
    "editable": true,
    "slideshow": {
     "slide_type": ""
    },
    "tags": [
     "remove-output"
    ]
   },
   "source": [
    "# Time-dependent heat equation - Implicit scheme"
   ]
  },
  {
   "cell_type": "markdown",
   "metadata": {},
   "source": [
    "A rod of length $L = 1$, whose initial temperature profile is $u(x,0) = 100 \\sin (\\pi x)$, becomes attached on one end to a cooling reservoir, maintained at $0$ °C while the other end is insulated, which gives the following boundary condition: $ \\dfrac{dT}{dx} \\bigg|_{x=L} = 0$.\n",
    "\n",
    "For the time-dependent heat equation, $\\lambda^2 \\dfrac{\\partial^2 u}{\\partial x^2} + q = \\dfrac{\\partial u}{\\partial t}$, for the rod using $30$ nodes with $q=1$ and $\\lambda = 1$, use the fully implicit iteration scheme to plot the temperature profile of the rod at $t = \\begin{bmatrix} 0 & 0.01 & 0.05 & 0.2 & 0.5 \\end{bmatrix}$.\n",
    "Take $dt = 0.01$."
   ]
  },
  {
   "cell_type": "code",
   "execution_count": null,
   "metadata": {
    "editable": true,
    "slideshow": {
     "slide_type": ""
    },
    "tags": [
     "remove-output"
    ]
   },
   "outputs": [],
   "source": [
    "# TODO: Write your solution below\n"
   ]
  },
  {
   "cell_type": "markdown",
   "metadata": {},
   "source": [
    "## Exporting your work\n",
    "\n",
    "When you're ready, the easiest way to export the notebook is to `File > Print` it and save it as a PDF. \n",
    "Remove any excessively long, unrelated outputs first by clicking the arrow → next to the output box and then `Show/hide output`. \n",
    "Obviously don't obscure any necessary output or graphs!"
   ]
  }
 ],
 "metadata": {
  "kernelspec": {
   "display_name": "Python 3 (ipykernel)",
   "language": "python",
   "name": "python3"
  },
  "language_info": {
   "codemirror_mode": {
    "name": "ipython",
    "version": 3
   },
   "file_extension": ".py",
   "mimetype": "text/x-python",
   "name": "python",
   "nbconvert_exporter": "python",
   "pygments_lexer": "ipython3",
   "version": "3.12.9"
  },
  "widgets": {
   "application/vnd.jupyter.widget-state+json": {
    "state": {},
    "version_major": 2,
    "version_minor": 0
   }
  }
 },
 "nbformat": 4,
 "nbformat_minor": 4
}
