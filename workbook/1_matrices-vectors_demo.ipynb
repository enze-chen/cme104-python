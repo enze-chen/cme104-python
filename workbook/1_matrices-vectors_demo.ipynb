{
 "cells": [
  {
   "cell_type": "markdown",
   "metadata": {},
   "source": [
    "# Matrices and vectors\n",
    "\n",
    "```{admonition} Important!\n",
    ":class: tip\n",
    "If you're completely new to Python, you may want to go through the exercises in the {doc}`../tutorials/1_fund-python_blank` notebook first!\n",
    "```\n",
    "\n",
    "Since this is a linear algebra class, our first demo will be working with matrices and vectors in Python using the [NumPy](https://numpy.org/) library.\n",
    "Regardless of the dimensions, the objects are all NumPy arrays which can be built from lists and further manipulated.\n",
    "Using NumPy arrays (instead of `list`) will make our lives much easier, as you will see!"
   ]
  },
  {
   "cell_type": "markdown",
   "metadata": {},
   "source": [
    "## Summary of commands\n",
    "\n",
    "In this exercise, we will demonstrate the following:\n",
    "- [**Numpy**](https://numpy.org/doc/stable/index.html)\n",
    "    - [`@`](https://numpy.org/doc/stable/reference/routines.linalg.html#the-operator) - matrix multiplication operator.\n",
    "    - `*` - element-wise (scalar) multiplication operator.\n",
    "    - [`array.shape`](https://numpy.org/doc/stable/reference/generated/numpy.ndarray.shape.html) - attribute that returns the dimensions of each axis in `array`.\n",
    "    - [`array.size`](https://numpy.org/doc/stable/reference/generated/numpy.ndarray.size.html) - attribute that returns the number of elements in `array`.\n",
    "    - [`array.ndim`](https://numpy.org/doc/stable/reference/generated/numpy.ndarray.ndim.html) - attribute that returns the number of dimensions in `array`.\n",
    "    - [`array.T`](https://numpy.org/doc/stable/reference/generated/numpy.ndarray.T.html)/[`np.transpose(array)`](https://numpy.org/doc/stable/reference/generated/numpy.transpose.html) - transpose of the `array`.\n",
    "    - [`np.round(array)`](https://numpy.org/doc/stable//reference/generated/numpy.round.html) - Returns integer values of the argument.\n",
    "- [**Matplotlib**](https://matplotlib.org/stable/)\n",
    "    - [`plt.subplots()`](https://matplotlib.org/stable/api/_as_gen/matplotlib.pyplot.subplots.html) - Create Figure and Axes objects for plotting. Many possible parameters.\n",
    "    - [`ax.plot(x, y, ...)`](https://matplotlib.org/stable/api/_as_gen/matplotlib.axes.Axes.plot.html) - Create a scatter/line plot in 1D, `y` vs. `x`. Many styles possible.\n",
    "    - [`ax.set(...)`](https://matplotlib.org/stable/api/_as_gen/matplotlib.axes.Axes.set.html) - Set axes `xlabel`, `ylabel`, `xlim`, `ylim`, `title`, etc."
   ]
  },
  {
   "cell_type": "markdown",
   "metadata": {},
   "source": [
    "## Demo\n",
    "\n",
    "We will multiply the following two matrices:\n",
    "\n",
    "$$ A = \\begin{bmatrix} 1 & 2 \\\\ -1 & 3 \\end{bmatrix}, \\qquad B = \\begin{bmatrix} 1 & 0 & 1 \\\\ 2 & 1 & 0 \\end{bmatrix}. $$\n",
    "\n",
    "We will determine the size of the resulting matrix, and display the bottom-left element and the second column on the screen.\n",
    "\n",
    "Hint: Recall that Python is `0`-indexed!"
   ]
  },
  {
   "cell_type": "code",
   "execution_count": 1,
   "metadata": {},
   "outputs": [
    {
     "name": "stdout",
     "output_type": "stream",
     "text": [
      "Product of A * B:\n",
      "[[ 5  2  1]\n",
      " [ 5  3 -1]]\n",
      "\n",
      "The size of matrix C:\n",
      "(2, 3)\n",
      "\n",
      "Bottom-left element of C:\n",
      "5\n",
      "\n",
      "Second column of C:\n",
      "[2 3]\n"
     ]
    }
   ],
   "source": [
    "# initial matrices\n",
    "import numpy as np\n",
    "A = np.array([[1, 2], [-1, 3]])\n",
    "B = np.array([[1, 0, 1], [2, 1, 0]])\n",
    "\n",
    "# calculate and display their product\n",
    "C = A @ B\n",
    "print(\"Product of A * B:\")\n",
    "print(C)\n",
    "print()\n",
    "\n",
    "# calculate the size of the new matrix\n",
    "print(\"The size of matrix C:\")\n",
    "print(C.shape)\n",
    "print()\n",
    "\n",
    "# display bottom-left element and second column\n",
    "print(\"Bottom-left element of C:\")\n",
    "print(C[1,0])\n",
    "print()\n",
    "\n",
    "print(\"Second column of C:\")\n",
    "print(C[:,1])"
   ]
  }
 ],
 "metadata": {
  "kernelspec": {
   "display_name": "Python 3 (ipykernel)",
   "language": "python",
   "name": "python3"
  },
  "language_info": {
   "codemirror_mode": {
    "name": "ipython",
    "version": 3
   },
   "file_extension": ".py",
   "mimetype": "text/x-python",
   "name": "python",
   "nbconvert_exporter": "python",
   "pygments_lexer": "ipython3",
   "version": "3.12.9"
  },
  "widgets": {
   "application/vnd.jupyter.widget-state+json": {
    "state": {},
    "version_major": 2,
    "version_minor": 0
   }
  }
 },
 "nbformat": 4,
 "nbformat_minor": 4
}
