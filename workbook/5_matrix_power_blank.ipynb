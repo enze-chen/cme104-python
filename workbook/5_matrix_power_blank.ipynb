{
 "cells": [
  {
   "cell_type": "markdown",
   "metadata": {
    "editable": true,
    "slideshow": {
     "slide_type": ""
    },
    "tags": [
     "remove-output"
    ]
   },
   "source": [
    "# Power of a matrix - Your turn"
   ]
  },
  {
   "cell_type": "markdown",
   "metadata": {},
   "source": [
    "Suppose each year, $5\\%$ of the students at UC Berkeley transfer to Stanford and $1\\%$ of the students at Stanford transfer to Berkeley.\n",
    "Determine the population after $5$ years if there\n",
    "were initially $50,000$ students at Berkeley and $10,000$ students at Stanford.\n",
    "The transformation matrix to use is $A = \\begin{bmatrix} 0.99 & 0.05 \\\\ 0.01 & 0.95 \\end{bmatrix}$.\n",
    "\n",
    "```{note}\n",
    "$x_1$ is the Stanford population and $x_2$ is the Berkeley population.\n",
    "```"
   ]
  },
  {
   "cell_type": "code",
   "execution_count": null,
   "metadata": {
    "editable": true,
    "slideshow": {
     "slide_type": ""
    },
    "tags": [
     "remove-output"
    ]
   },
   "outputs": [],
   "source": [
    "# TODO: Write your solution below\n"
   ]
  },
  {
   "cell_type": "markdown",
   "metadata": {},
   "source": [
    "## Exporting your work\n",
    "\n",
    "When you're ready, the easiest way to export the notebook is to `File > Print` it and save it as a PDF. \n",
    "Remove any excessively long, unrelated outputs first by clicking the arrow → next to the output box and then `Show/hide output`. \n",
    "Obviously don't obscure any necessary output or graphs!"
   ]
  }
 ],
 "metadata": {
  "kernelspec": {
   "display_name": "Python 3 (ipykernel)",
   "language": "python",
   "name": "python3"
  },
  "language_info": {
   "codemirror_mode": {
    "name": "ipython",
    "version": 3
   },
   "file_extension": ".py",
   "mimetype": "text/x-python",
   "name": "python",
   "nbconvert_exporter": "python",
   "pygments_lexer": "ipython3",
   "version": "3.12.9"
  },
  "widgets": {
   "application/vnd.jupyter.widget-state+json": {
    "state": {},
    "version_major": 2,
    "version_minor": 0
   }
  }
 },
 "nbformat": 4,
 "nbformat_minor": 4
}
