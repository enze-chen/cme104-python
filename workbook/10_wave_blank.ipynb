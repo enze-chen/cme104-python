{
 "cells": [
  {
   "cell_type": "markdown",
   "metadata": {
    "editable": true,
    "slideshow": {
     "slide_type": ""
    },
    "tags": [
     "remove-output"
    ]
   },
   "source": [
    "# Wave motion - Your turn"
   ]
  },
  {
   "cell_type": "markdown",
   "metadata": {},
   "source": [
    "A square membrane bounded by $x=0$, $x=1$, $y=0$, $y=1$ is fixed at the boundaries and governed by the differential equation $c^2 \\left( \\dfrac{\\partial^2 u}{\\partial x^2} + \\dfrac{\\partial^2 u}{\\partial y^2} \\right) = \\dfrac{\\partial^2 u}{\\partial t^2}$, $c = 1$.\n",
    "At $t = 0$, the membrane is displaced and released from its equilibrium position such that $u(x,y,0) = \\sin(2 \\pi x) \\sin(2 \\pi y)$, and $\\dfrac{\\partial u}{\\partial t} \\bigg|_{x,y,t=0} = 0$.\n",
    "\n",
    "Make a movie of the displacement of the membrane as a function of time, $u(x,y,t) = \\cos \\left( 2 \\sqrt{2} \\pi t \\right) \\sin \\left(2 \\pi x \\right) \\sin \\left( 2 \\pi y \\right)$, for $3$ seconds.\n",
    "\n",
    "````{note}\n",
    "Instead of `surf.set_zdata()`, which doesn't even exist for 3D artist objects, you should use the following syntax inside your `update()` function to simply redraw the whole plot:\n",
    "```\n",
    "ax.clear()\n",
    "surf = plot_surface(X, Y, u)\n",
    "```\n",
    "````\n",
    "\n",
    "```{attention}\n",
    "This exercise will take longer than the demo to execute the code! But the actual animation should be rapid and finish quickly.\n",
    "```"
   ]
  },
  {
   "cell_type": "code",
   "execution_count": null,
   "metadata": {
    "editable": true,
    "slideshow": {
     "slide_type": ""
    },
    "tags": [
     "remove-output"
    ]
   },
   "outputs": [],
   "source": [
    "# TODO: Write your solution below\n"
   ]
  },
  {
   "cell_type": "markdown",
   "metadata": {},
   "source": [
    "## Exporting your work\n",
    "\n",
    "When you're ready, the easiest way to export the notebook is to `File > Print` it and save it as a PDF. \n",
    "Remove any excessively long, unrelated outputs first by clicking the arrow → next to the output box and then `Show/hide output`. \n",
    "Obviously don't obscure any necessary output or graphs!"
   ]
  }
 ],
 "metadata": {
  "kernelspec": {
   "display_name": "Python 3 (ipykernel)",
   "language": "python",
   "name": "python3"
  },
  "language_info": {
   "codemirror_mode": {
    "name": "ipython",
    "version": 3
   },
   "file_extension": ".py",
   "mimetype": "text/x-python",
   "name": "python",
   "nbconvert_exporter": "python",
   "pygments_lexer": "ipython3",
   "version": "3.12.9"
  },
  "widgets": {
   "application/vnd.jupyter.widget-state+json": {
    "state": {},
    "version_major": 2,
    "version_minor": 0
   }
  }
 },
 "nbformat": 4,
 "nbformat_minor": 4
}
