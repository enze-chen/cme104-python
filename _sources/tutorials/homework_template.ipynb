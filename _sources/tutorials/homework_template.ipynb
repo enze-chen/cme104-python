{
 "cells": [
  {
   "cell_type": "markdown",
   "metadata": {
    "editable": true,
    "slideshow": {
     "slide_type": ""
    },
    "tags": []
   },
   "source": [
    "# Homework XX, Problem YY\n",
    "\n",
    "Name: [Your name here]\n",
    "\n",
    "Instructions:\n",
    "1. Click the {fa}`rocket` in the top-right corner to open this page in Google Colab.\n",
    "   Then modify the text above (double-click the cell to edit) and write your solution in the code cell below.\n",
    "1. To save your progress, make a copy of this notebook in Colab `File > Save a copy in Drive` and you'll find it in `My Drive > Colab Notebooks`.\n",
    "1. If you need to upload data files (like `.csv` or `.txt`), please see {doc}`../workbook/0_usage`."
   ]
  },
  {
   "cell_type": "code",
   "execution_count": 2,
   "metadata": {
    "editable": true,
    "slideshow": {
     "slide_type": ""
    },
    "tags": []
   },
   "outputs": [],
   "source": [
    "# TODO: Write your solution below\n",
    "\n",
    "# import required libraries first\n",
    "\n",
    "# write a lil' code; refer to examples\n",
    "\n",
    "# Shift+Enter to run a cell; or \"Run all\" in the menu bar\n",
    "# Any outputs? Make sure they show up!"
   ]
  },
  {
   "cell_type": "markdown",
   "metadata": {},
   "source": [
    "## Exporting your work\n",
    "\n",
    "When you're ready, the easiest way to export the notebook is to `File > Print` it and save it as a PDF. \n",
    "Remove any excessively long, unrelated outputs first by clicking the arrow → next to the output box and then `Show/hide output`. \n",
    "Obviously **make sure necessary outputs or graphs are clearly visible**!"
   ]
  }
 ],
 "metadata": {
  "kernelspec": {
   "display_name": "Python 3 (ipykernel)",
   "language": "python",
   "name": "python3"
  },
  "language_info": {
   "codemirror_mode": {
    "name": "ipython",
    "version": 3
   },
   "file_extension": ".py",
   "mimetype": "text/x-python",
   "name": "python",
   "nbconvert_exporter": "python",
   "pygments_lexer": "ipython3",
   "version": "3.12.9"
  },
  "widgets": {
   "application/vnd.jupyter.widget-state+json": {
    "state": {},
    "version_major": 2,
    "version_minor": 0
   }
  }
 },
 "nbformat": 4,
 "nbformat_minor": 4
}
