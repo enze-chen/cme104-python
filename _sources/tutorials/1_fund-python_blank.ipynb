{
 "cells": [
  {
   "cell_type": "markdown",
   "metadata": {
    "editable": true,
    "slideshow": {
     "slide_type": ""
    },
    "tags": [
     "remove-output"
    ]
   },
   "source": [
    "# Python fundamentals\n",
    "\n",
    "```{note}\n",
    "Click the {fa}`rocket` and open this notebook in Colab to enable interactivity.\n",
    "We encourage you to experiment with customized values to deepen your learning.\n",
    "```\n",
    "\n",
    "```{note}\n",
    "To save your progress, make a copy of this notebook in Colab `File > Save a copy` and you'll find it in `My Drive > Colab Notebooks`.\n",
    "```\n",
    "\n",
    "In this notebook, we'll provide a quick tutorial of Python to familiarize you with common use cases and syntax.\n",
    "\n",
    "(contents)=\n",
    "## Contents\n",
    "\n",
    "1. [Calculator](h:calculator)\n",
    "2. [General](h:general)\n",
    "3. [Scientific computing](h:sc-numpy)\n",
    "4. [Plotting](h:plot-mpl)"
   ]
  },
  {
   "cell_type": "markdown",
   "metadata": {},
   "source": [
    "------------------------------------------\n",
    "\n",
    "(h:calculator)=\n",
    "## 1. Python as a calculator\n",
    "\n",
    "[Back to top](contents)\n",
    "\n",
    "You can directly type numerical expressions into a code cell and execute it to run the computation.\n",
    "In the example below, the asterisk `*` symbolizes scalar multiplication."
   ]
  },
  {
   "cell_type": "code",
   "execution_count": null,
   "metadata": {},
   "outputs": [],
   "source": [
    "60 * 60 * 24 * 365"
   ]
  },
  {
   "cell_type": "markdown",
   "metadata": {},
   "source": [
    "In addition to **integers** (`int`) and **floats** (`float`, decimals), another data type you will often encounter is **strings** (`str`), which are literal expressions for text.\n",
    "They can be enclosed in double `\"` or single `'` quotes, but you have to be consistent."
   ]
  },
  {
   "cell_type": "code",
   "execution_count": null,
   "metadata": {},
   "outputs": [],
   "source": [
    "\"Hello, World!\""
   ]
  },
  {
   "cell_type": "markdown",
   "metadata": {},
   "source": [
    "Note that in the above two examples, the output automatically appeared when the cell was executed. \n",
    "This will occur for the _last line only_ and is sometimes nice, often unintentional.\n",
    "To force display, you can always use the `print()` function, like so:"
   ]
  },
  {
   "cell_type": "code",
   "execution_count": null,
   "metadata": {
    "editable": true,
    "slideshow": {
     "slide_type": ""
    },
    "tags": []
   },
   "outputs": [],
   "source": [
    "# comments start with a pound sign and aren't printed\n",
    "print(3.1415)\n",
    "print('CME 100')"
   ]
  },
  {
   "cell_type": "markdown",
   "metadata": {},
   "source": [
    "`print()` is very helpful for _debugging_! \n",
    "Feel free to experiment on your own."
   ]
  },
  {
   "cell_type": "markdown",
   "metadata": {},
   "source": [
    "The final data type we should cover is the **Boolean** (`bool`), which represents `True` or `False`.\n",
    "There are a couple of ways to do this, either with a literal or an expression.\n",
    "Note that in Python, to check for equality between two things uses the **double equals sign** (`==`). \n",
    "A single equals sign is for assignment (below)."
   ]
  },
  {
   "cell_type": "code",
   "execution_count": null,
   "metadata": {},
   "outputs": [],
   "source": [
    "a = True    # assignment to a variable, see next section\n",
    "print(a)\n",
    "print(1 == 2)"
   ]
  },
  {
   "cell_type": "markdown",
   "metadata": {},
   "source": [
    "### Your turn\n",
    "\n",
    "In the code cell below, compute the product of all the integers from $1$ to $9$."
   ]
  },
  {
   "cell_type": "code",
   "execution_count": null,
   "metadata": {},
   "outputs": [],
   "source": [
    "# TODO: Write your solution below\n"
   ]
  },
  {
   "cell_type": "markdown",
   "metadata": {},
   "source": [
    "------------------------------------------\n",
    "\n",
    "(h:general)=\n",
    "## 2. General Python paradigms\n",
    "\n",
    "[Back to top](contents)\n",
    "\n",
    "In addition to being used as a calculator, Python can store inputs or outputs into **variables** using the **assignment operator** (`=`).\n",
    "If a semicolon `;` is placed at the end of a statement, the value of that expression is calculated but not displayed on the screen."
   ]
  },
  {
   "cell_type": "code",
   "execution_count": null,
   "metadata": {},
   "outputs": [],
   "source": [
    "# Define a\n",
    "a = 2\n",
    "print(a)\n",
    "a;"
   ]
  },
  {
   "cell_type": "code",
   "execution_count": null,
   "metadata": {
    "editable": true,
    "slideshow": {
     "slide_type": ""
    },
    "tags": []
   },
   "outputs": [],
   "source": [
    "# Define b\n",
    "b = 5\n",
    "b"
   ]
  },
  {
   "cell_type": "code",
   "execution_count": null,
   "metadata": {},
   "outputs": [],
   "source": [
    "# Compute c\n",
    "c = a + b ** 2   # exponentiation is two asterisks (not carat!)\n",
    "print(c)"
   ]
  },
  {
   "cell_type": "code",
   "execution_count": null,
   "metadata": {
    "editable": true,
    "slideshow": {
     "slide_type": ""
    },
    "tags": []
   },
   "outputs": [],
   "source": [
    "# Compute a different value for c\n",
    "c = a + 2 * b\n",
    "print(c)"
   ]
  },
  {
   "cell_type": "markdown",
   "metadata": {
    "editable": true,
    "slideshow": {
     "slide_type": ""
    },
    "tags": []
   },
   "source": [
    "### \"Restart and run all\" or it didn't happen\n",
    "\n",
    "With Jupyter notebooks, you have the power to run cells in any order you want.\n",
    "And with great power comes great responsibility.\n",
    "It's easy to get variables mixed up and then your notebook starts giving you errors;\n",
    "or worse someone might intentionally use this to conceal duplicitly (e.g., their notebook appears functional based on cell outputs, but actually isn't when executed from top to bottom). \n",
    "\n",
    "So if you ever need to reset anything, the easiest way is to go to `Runtime > Restart session and run all` on Colab or `Run > Restart Kernel and Run All Cells...` on Jupyter Lab.\n",
    "This clears all variables and outputs from the workspace and runs your notebook from top to bottom.\n",
    "\n",
    "```{note}\n",
    "If you're coming from MATLAB, you may be familiar with putting `clear; close all; clc;` at the top of your script. \n",
    "This is essentially equivalent.\n",
    "```\n",
    "\n",
    "First, try running this following cell:"
   ]
  },
  {
   "cell_type": "code",
   "execution_count": null,
   "metadata": {},
   "outputs": [],
   "source": [
    "c = 2 ** 3"
   ]
  },
  {
   "cell_type": "markdown",
   "metadata": {},
   "source": [
    "**Before** you run the next cell, try to restart the kernel (equivalent to `clear` in MATLAB) by clicking `Runtime > Restart session` or `Kernel > Restart Kernel...` and then try running the next cell, which shows the variable you computed before clearing the runtime."
   ]
  },
  {
   "cell_type": "code",
   "execution_count": null,
   "metadata": {},
   "outputs": [],
   "source": [
    "c"
   ]
  },
  {
   "cell_type": "markdown",
   "metadata": {},
   "source": [
    "### Data structures\n",
    "\n",
    "In addition to standard data types, there are **data structures** which are larger constructs that can store data (variables, values, etc.).\n",
    "Perhaps the most common one you will use is the **list**, which are values within square brackets `[]`.\n",
    "See the examples below."
   ]
  },
  {
   "cell_type": "code",
   "execution_count": null,
   "metadata": {},
   "outputs": [],
   "source": [
    "# creating lists\n",
    "a = [1, 2, 3, 7]\n",
    "print(a)\n",
    "b = [3, 'hi', 3.14, True]    # lists can be heterogeneous! \n",
    "print(b)\n",
    "c = []    # the empty list!\n",
    "print(c)"
   ]
  },
  {
   "cell_type": "markdown",
   "metadata": {},
   "source": [
    "#### Manipulating lists\n",
    "\n",
    "There are _so_ many fun things you can do with lists. \n",
    "Here we will only show a few.\n",
    "\n",
    "```{important}\n",
    "Python is **0-indexed** which means the first element of my_list is `my_list[0]`, not `[1]`! \n",
    "This is one of the biggest differences between Python and MATLAB.\n",
    "```"
   ]
  },
  {
   "cell_type": "code",
   "execution_count": null,
   "metadata": {},
   "outputs": [],
   "source": [
    "# indexing into lists\n",
    "a = [1, 2, 3, 4, 5, 6, 7, 8, 9]\n",
    "print(a[0], a[3], a[-1])    # what's the last one doing??\n",
    "\n",
    "# slicing a list (taking a range of values)\n",
    "print(a[1:4], a[6:])      # start index is inclusive, end index is exclusive\n",
    "print(a[::-1])            # ta-da!\n",
    "\n",
    "# adding to a list with append()\n",
    "a.append(42)\n",
    "print(a)"
   ]
  },
  {
   "cell_type": "markdown",
   "metadata": {},
   "source": [
    "There are many more data structures available to you, such as **sets**, **dictionaries**, etc.\n",
    "We encourage you to read more if you're curious or as you encounter them."
   ]
  },
  {
   "cell_type": "markdown",
   "metadata": {},
   "source": [
    "#### Your turn\n",
    "\n",
    "Create a list of the first five positive integers.\n",
    "Then change the third element to `7`.\n",
    "Print the list to confirm the change was made."
   ]
  },
  {
   "cell_type": "code",
   "execution_count": null,
   "metadata": {},
   "outputs": [],
   "source": [
    "# TODO: Write your solution below\n"
   ]
  },
  {
   "cell_type": "markdown",
   "metadata": {},
   "source": [
    "### Control flow\n",
    "\n",
    "This is the general term used to describe constructs (often based on logical expressions) that control the order of program execution.\n",
    "We'll divide this into two categories for now: **conditionals** and **loops**."
   ]
  },
  {
   "cell_type": "markdown",
   "metadata": {},
   "source": [
    "#### Conditional statements\n",
    "\n",
    "We use this to describe `if`, `elif` (short for \"else if\"), and `else` statements.\n",
    "The general structure is like this:\n",
    "\n",
    "```python\n",
    "if condition1:\n",
    "    do something only when condition1 is True\n",
    "elif condition2:\n",
    "    otherwise, do something if condition2 is True (and condition1 was False)\n",
    "else:\n",
    "    otherwise, do something\n",
    "```\n",
    "\n",
    "```{note}\n",
    "`if` is required, and the other two are _optional_.\n",
    "```\n",
    "\n",
    "```{note}\n",
    "In MATLAB, control flow blocks have an `end` to conclude. No need for that in Python!\n",
    "```"
   ]
  },
  {
   "cell_type": "code",
   "execution_count": null,
   "metadata": {},
   "outputs": [],
   "source": [
    "a = 2\n",
    "if a == 2:\n",
    "    print(\"a equals 2\")\n",
    "\n",
    "if a > 3:\n",
    "    print(\"a is large\")\n",
    "else:\n",
    "    print(\"a is small\")"
   ]
  },
  {
   "cell_type": "markdown",
   "metadata": {},
   "source": [
    "#### Loops\n",
    "\n",
    "There are many types of loops, which enable you to **automate repetitive tasks**, and they boil down to two main flavors:\n",
    "- `for` loops: When you know how many times you want something done.\n",
    "- `while` loops: When you know the stop condition (but might not know or don't care how long it takes to get there).\n",
    "\n",
    "The `for` loop syntax in Python is:\n",
    "```python\n",
    "for i in collection:\n",
    "    do something repeatedly, where each iteration, the variable i takes on a different value in the collection\n",
    "```\n",
    "where `collection` is usually a list-like object of values.\n",
    "The `for` loop stops when all the items in the collection are used once.\n",
    "A very common expression you'll see for `collection` is `range(N)`, which is a [built-in function](https://docs.python.org/3/library/functions.html#func-range) that enumerates numbers from `0` up to `N` (_not_ inclusive).\n",
    "\n",
    "The `while` loop syntax in Python is:\n",
    "```python\n",
    "while condition:\n",
    "    do something repeatedly until condition becomes False. Try not to get stuck in an infinite loop!\n",
    "```\n",
    "\n",
    "Let's see these in action."
   ]
  },
  {
   "cell_type": "code",
   "execution_count": null,
   "metadata": {},
   "outputs": [],
   "source": [
    "j = 0\n",
    "for i in range(5):\n",
    "    j += i\n",
    "    print(i, j)\n",
    "\n",
    "print()\n",
    "while j > 5:\n",
    "    print(j)\n",
    "    j -= 1"
   ]
  },
  {
   "cell_type": "markdown",
   "metadata": {},
   "source": [
    "#### Your turn\n",
    "\n",
    "Loop through the first ten positive integers.\n",
    "Print odd numbers as they are and print the negative value for even numbers.\n",
    "\n",
    "Hint: In Python, the **modulo operator** `%`, used as `a % b`, returns the remainder when $a$ is divided by $b$."
   ]
  },
  {
   "cell_type": "code",
   "execution_count": null,
   "metadata": {},
   "outputs": [],
   "source": [
    "# TODO: Write your solution below\n"
   ]
  },
  {
   "cell_type": "markdown",
   "metadata": {},
   "source": [
    "### User-defined functions\n",
    "\n",
    "Sometimes, writing your own functions can be helpful for solving problems, and we will practice this in the context of solving differential equations.\n",
    "In CS 106A and other contexts, this technique is called _decomposition_ and makes your code more readable, extensible, and often more efficient.\n",
    "\n",
    "In Python, the syntax for defining your own function is:\n",
    "\n",
    "```python\n",
    "def my_func_name(arg1, arg2, ...):\n",
    "    \"\"\" optional docstring to explain purpose, arguments, etc. \"\"\"\n",
    "    do something\n",
    "    return something   # optional\n",
    "\n",
    "my_func_name(args)     # calling the function\n",
    "```\n",
    "\n",
    "- The `def` at the start is required, as is the colon at the end of the first line.\n",
    "- Just like variables, function names should be descriptive.\n",
    "- Arguments are optional, but you'll probably have some input variables.\n",
    "- Docstrings are optional but very nice to have (for others and future you). No need though if the function is very simple.\n",
    "- Variables defined in the function body (including arguments) have local scope, i.e., they don't exist outside the function.\n",
    "- Returning a value is generally optional, but you'll probably have something.\n",
    "- Calling the function works as with any other built-in function.\n",
    "\n",
    "Below we give a short example:"
   ]
  },
  {
   "cell_type": "code",
   "execution_count": null,
   "metadata": {},
   "outputs": [],
   "source": [
    "def square_input(x):\n",
    "    \"\"\" Takes an input and squares it. \"\"\"\n",
    "    local_scope = 0\n",
    "    return x ** 2\n",
    "\n",
    "print(square_input(5))\n",
    "print(local_scope)    # errors!"
   ]
  },
  {
   "cell_type": "markdown",
   "metadata": {},
   "source": [
    "------------------------------------------\n",
    "\n",
    "(h:sc-numpy)=\n",
    "## 3. Scientific computing with NumPy\n",
    "\n",
    "[Back to top](contents)\n",
    "\n",
    "Now that we're familiar with native Python, it's time to explore what it can accomplish for scientific computing.\n",
    "In engineering mathematics, we often have to work with **vector** quantities, like force, position, electric field, etc.\n",
    "In scientific computing in Python, these vectors are encoded as one-dimensional **NumPy arrays**, and these exercises walk you through how to create them, starting from the lists that you've already seen."
   ]
  },
  {
   "cell_type": "code",
   "execution_count": null,
   "metadata": {},
   "outputs": [],
   "source": [
    "my_list = [1, 2, 3]\n",
    "\n",
    "print(type(my_list))\n",
    "print(my_list)"
   ]
  },
  {
   "cell_type": "markdown",
   "metadata": {},
   "source": [
    "Now, the above looks like a vector, but we're not quite done yet.\n",
    "We have to convert it to an array using the canonical scientific computing library [NumPy](https://numpy.org/).\n",
    "\n",
    "Unlike MATLAB, in Python we have to explicitly import any special packages we want to use, such as:\n",
    "\n",
    "```python\n",
    "import my_package_name\n",
    "\n",
    "my_package_name.special_function()\n",
    "```\n",
    "\n",
    "And then any functions we want to use from that package will have the package name prepended with a period.\n",
    "But, since NumPy is used _so_ frequently, the community has a special paradigm to abbreviate the package import (called an _alias_) as follows:\n",
    "\n",
    "```python\n",
    "import numpy as np\n",
    "\n",
    "np.special_function()\n",
    "```\n",
    "\n",
    "This saves your fingers a bit, and we will adopt this practice as well.\n",
    "We will import NumPy and then convert the list from above to a NumPy array using the [`np.array()`](https://numpy.org/doc/stable/reference/generated/numpy.array.html) constructor."
   ]
  },
  {
   "cell_type": "code",
   "execution_count": null,
   "metadata": {
    "editable": true,
    "slideshow": {
     "slide_type": ""
    },
    "tags": []
   },
   "outputs": [],
   "source": [
    "import numpy as np\n",
    "my_array = np.array(my_list)\n",
    "\n",
    "print(type(my_array))\n",
    "print(my_array)"
   ]
  },
  {
   "cell_type": "markdown",
   "metadata": {},
   "source": [
    "Note how the printed array looks the same as the list, but it is a different class.\n",
    "\n",
    "```{note}\n",
    "We should mention: Not only do you have to import special packages, but you also have to **install** them separately from the base Python.\n",
    "Luckily, if you're using Google Colab, all of the packages we're using are common enough to come pre-installed.\n",
    "```"
   ]
  },
  {
   "cell_type": "markdown",
   "metadata": {},
   "source": [
    "Now we'll do a series of tasks:\n",
    "- Display each element. We can select array elements by using the appropriate **index**, `array[ind]`.\n",
    "- Multiple the first and second elements. We use the standard `*` operator with the selected elements.\n",
    "- Change the third element to `4` and display the new vector on the screen."
   ]
  },
  {
   "cell_type": "code",
   "execution_count": null,
   "metadata": {
    "editable": true,
    "slideshow": {
     "slide_type": ""
    },
    "tags": []
   },
   "outputs": [],
   "source": [
    "# Display each element\n",
    "print(my_array[0])\n",
    "print(my_array[1])\n",
    "print(my_array[2])\n",
    "print()\n",
    "\n",
    "# Multiply the first and second elements\n",
    "print(my_array[0] * my_array[1])\n",
    "print()\n",
    "\n",
    "# Change the third element to 4\n",
    "my_array[2] = 4\n",
    "print(my_array)"
   ]
  },
  {
   "cell_type": "markdown",
   "metadata": {},
   "source": [
    "### 2D arrays, i.e., matrices\n",
    "\n",
    "To create a 2D NumPy array (or $N$-dimensional), you can construct it from a list of lists, as follows:"
   ]
  },
  {
   "cell_type": "code",
   "execution_count": null,
   "metadata": {},
   "outputs": [],
   "source": [
    "import numpy as np\n",
    "list2 = [ [1, 2, 3], [4, 5, 6] ]\n",
    "arr = np.array(list2)\n",
    "arr"
   ]
  },
  {
   "cell_type": "markdown",
   "metadata": {},
   "source": [
    "Indexing into a 2D array requires commas separating the different axes (row first, then column).\n",
    "Recall that arrays are 0-indexed in Python!"
   ]
  },
  {
   "cell_type": "code",
   "execution_count": null,
   "metadata": {},
   "outputs": [],
   "source": [
    "print(arr[0, 1])"
   ]
  },
  {
   "cell_type": "markdown",
   "metadata": {},
   "source": [
    "### Helper functions\n",
    "\n",
    "Creating vectors manually isn't bad when there are only a few elements, but it would be quite annoying if you had dozens or hundreds of entries!\n",
    "Luckily, there are some convenient functions that can be employed depending on your use case.\n",
    "\n",
    "#### I want exactly $N$ equally spaced values\n",
    "\n",
    "Here you want to use the [`np.linspace(start, stop, num)`](https://numpy.org/doc/stable/reference/generated/numpy.linspace.html) function, which accepts as arguments:\n",
    "- `start`: The first value of your array. Required.\n",
    "- `stop`: The last value of your array. Required.\n",
    "- `num`: The total number of elements in your array, equally spaced between start and stop _inclusive_ (by default).\n",
    "  If you do not specify this parameter, the default is `num=50`."
   ]
  },
  {
   "cell_type": "code",
   "execution_count": null,
   "metadata": {
    "editable": true,
    "slideshow": {
     "slide_type": ""
    },
    "tags": []
   },
   "outputs": [],
   "source": [
    "my_array2 = np.linspace(0, 10, 6)\n",
    "print(my_array2)"
   ]
  },
  {
   "cell_type": "markdown",
   "metadata": {},
   "source": [
    "Some notes:\n",
    "- In Python, functions can be called with explicit parameter names, if you want.\n",
    "  So `np.linspace(start=0, stop=10, num=6)` also would've worked.\n",
    "- You can use `array.shape` to check the dimensions of the vector you constructed.\n",
    "  `array.size` returns the total number of elements (essentially a product of all array dimensions).\n",
    "\n",
    "```{note}\n",
    "NumPy can be a little tricky when it comes to vectors (1-D arrays) and whether it's a row vector or column vector. \n",
    "You'll notice the shape below is abbreviated `(6,)`. \n",
    "We'll discuss this nuance later when we encounter it.\n",
    "```"
   ]
  },
  {
   "cell_type": "code",
   "execution_count": null,
   "metadata": {
    "editable": true,
    "slideshow": {
     "slide_type": ""
    },
    "tags": []
   },
   "outputs": [],
   "source": [
    "my_array2_named = np.linspace(start=0, stop=10, num=6)\n",
    "print(my_array2_named.shape)\n",
    "print(my_array2_named.size)"
   ]
  },
  {
   "cell_type": "markdown",
   "metadata": {},
   "source": [
    "#### I want values equally spaced by $\\delta$\n",
    "\n",
    "Here you want to use the [`np.arange(start, stop, step)`](https://numpy.org/doc/stable/reference/generated/numpy.arange.html) function, which accepts as arguments:\n",
    "- `start`: The first value of your array. Default is `0`, but best to always specify.\n",
    "- `stop`: The last value of your array, **not inclusive**. Required.\n",
    "- `step`: The increment between values starting from `start` and going up to _but not including_ `stop`. Default is `1`, but best to always specify."
   ]
  },
  {
   "cell_type": "code",
   "execution_count": null,
   "metadata": {
    "editable": true,
    "slideshow": {
     "slide_type": ""
    },
    "tags": []
   },
   "outputs": [],
   "source": [
    "# not quite!\n",
    "my_array3 = np.arange(0, 10, 2)\n",
    "print(my_array3)\n",
    "\n",
    "# better\n",
    "my_array3_redo = np.arange(0, 11, 2)\n",
    "print(my_array3_redo)"
   ]
  },
  {
   "cell_type": "markdown",
   "metadata": {
    "editable": true,
    "slideshow": {
     "slide_type": ""
    },
    "tags": []
   },
   "source": [
    "### Element-wise operations\n",
    "\n",
    "We'll define two vectors, $x = \\begin{bmatrix} 1 & -2 & 5 & 3 \\end{bmatrix}$ and $y = \\begin{bmatrix} 4 & 1 & 0 & -1 \\end{bmatrix}$.\n",
    "We'll multiply $x$ and $y$ element by element, and then compute the squares of the elements of $x$.\n",
    "In Python/NumPy, this is done in the ways you'd expect."
   ]
  },
  {
   "cell_type": "code",
   "execution_count": null,
   "metadata": {
    "editable": true,
    "slideshow": {
     "slide_type": ""
    },
    "tags": []
   },
   "outputs": [],
   "source": [
    "import numpy as np    # we do this every time\n",
    "x = np.array([1, -2, 5, 3])\n",
    "y = np.array([4, 1, 0, -1])\n",
    "\n",
    "print(\"Multiplication:\")\n",
    "z = x * y\n",
    "print(z)\n",
    "\n",
    "print(\"Squaring x:\")\n",
    "print(x ** 2)"
   ]
  },
  {
   "cell_type": "markdown",
   "metadata": {
    "editable": true,
    "slideshow": {
     "slide_type": ""
    },
    "tags": []
   },
   "source": [
    "```{note}\n",
    "In MATLAB, you may be used to `.*` and `./` to perform element-wise multiplication and division.\n",
    "In NumPy, this is the default behavior.\n",
    "```\n",
    "\n",
    "```{important}\n",
    "This is not what happens with lists in Python! \n",
    "Using the same operators could generate errors or incorrect behavior.\n",
    "```"
   ]
  },
  {
   "cell_type": "code",
   "execution_count": null,
   "metadata": {
    "editable": true,
    "slideshow": {
     "slide_type": ""
    },
    "tags": []
   },
   "outputs": [],
   "source": [
    "# create two lists\n",
    "xl = [1, -2, 5, 3]\n",
    "yl = [4, 1, 0, -1]\n",
    "print(type(xl), xl)\n",
    "\n",
    "# try adding them\n",
    "zl = xl + yl\n",
    "print(zl)\n",
    "\n",
    "# try multiplying them\n",
    "print(xl * yl)"
   ]
  },
  {
   "cell_type": "markdown",
   "metadata": {},
   "source": [
    "Yikes."
   ]
  },
  {
   "cell_type": "markdown",
   "metadata": {},
   "source": [
    "There are also many [NumPy functions](https://numpy.org/doc/stable/reference/routines.math.html) that can operate on arrays in an element-wise fashion, such as the following examples."
   ]
  },
  {
   "cell_type": "code",
   "execution_count": null,
   "metadata": {},
   "outputs": [],
   "source": [
    "x = np.arange(-1, 3)\n",
    "print(np.exp(x))\n",
    "print(np.absolute(x))\n",
    "print(np.sum(x))"
   ]
  },
  {
   "cell_type": "markdown",
   "metadata": {},
   "source": [
    "### Your turn\n",
    "\n",
    "Compute the value of the following function of $x$ between $1$ and $3$, using equally spaced points separated by $0.2$.\n",
    "\n",
    "$$ y = x \\cos \\left( x^2 \\right) + \\frac{1}{x^3} $$"
   ]
  },
  {
   "cell_type": "code",
   "execution_count": null,
   "metadata": {},
   "outputs": [],
   "source": [
    "# TODO: Write your solution below\n"
   ]
  },
  {
   "cell_type": "markdown",
   "metadata": {},
   "source": [
    "------------------------------------------\n",
    "\n",
    "(h:plot-mpl)=\n",
    "## 4. Making plots with Matplotlib\n",
    "\n",
    "[Back to top](contents)\n",
    "\n",
    "Visualization is an important skill for an engineer and there are many libraries in Python for doing so.\n",
    "We will use the foundation **Matplotlib** library and specifically the [Pyplot](https://matplotlib.org/stable/api/pyplot_summary.html) package in this course.\n",
    "The standard syntax (best practice) for Pyplot is as follows:\n",
    "\n",
    "```python\n",
    "import matplotlib.pyplot as plt    # alias\n",
    "fig, ax = plt.subplots()           # create Figure and Axes objects\n",
    "ax.plot(x, y)                      # or any other plotting function\n",
    "plt.show()                         # show the figure underneath the code cell\n",
    "```\n",
    "\n",
    "Here's an example:"
   ]
  },
  {
   "cell_type": "code",
   "execution_count": null,
   "metadata": {},
   "outputs": [],
   "source": [
    "import numpy as np\n",
    "import matplotlib.pyplot as plt\n",
    "\n",
    "x = np.linspace(0, 2*np.pi)\n",
    "y = np.sin(x)\n",
    "\n",
    "fig, ax = plt.subplots()\n",
    "ax.plot(x, y)\n",
    "plt.show()"
   ]
  },
  {
   "cell_type": "markdown",
   "metadata": {},
   "source": [
    "There are **a ton of customizations** you can apply, way more than what we can demonstrate.\n",
    "We'll give a more elaborate example below, and otherwise will include links to important documentation\n",
    "- [Plot types](https://matplotlib.org/stable/plot_types/index.html) - including 3D!\n",
    "- [Choosing colors](https://matplotlib.org/stable/users/explain/colors/colors.html)\n",
    "- [Setting axis features](https://matplotlib.org/stable/api/_as_gen/matplotlib.axes.Axes.set.html) - labels, limits, titles, etc.\n",
    "- [Annotations](https://matplotlib.org/stable/users/explain/text/annotations.html)\n",
    "- [Cheatsheets](https://matplotlib.org/cheatsheets/)\n",
    "- [rcParams](https://matplotlib.org/stable/users/explain/customizing.html) - the final boss"
   ]
  },
  {
   "cell_type": "code",
   "execution_count": null,
   "metadata": {},
   "outputs": [],
   "source": [
    "x = np.linspace(0, 2*np.pi)\n",
    "y1 = np.sin(x)\n",
    "y2 = np.cos(x)\n",
    "\n",
    "fig, ax = plt.subplots(figsize=(8,4))\n",
    "ax.plot(x, y1, c='blue', alpha=0.4, label='sine')\n",
    "ax.plot(x, y2, c='#8C1515', ls='--', lw=2, label='cosine')\n",
    "ax.set(xlabel='x', ylabel=\"$f(x)$\", xlim=[0,2*np.pi])\n",
    "ax.legend()\n",
    "plt.show()"
   ]
  },
  {
   "cell_type": "markdown",
   "metadata": {},
   "source": [
    "### Your turn\n",
    "\n",
    "Define and plot the function $y(x) = |x|$ for $x$ ranging between $-1$ and $1$, with $x$ coordinates spaced by $0.05$."
   ]
  },
  {
   "cell_type": "code",
   "execution_count": null,
   "metadata": {},
   "outputs": [],
   "source": [
    "# TODO: Write your solution below\n"
   ]
  },
  {
   "cell_type": "markdown",
   "metadata": {},
   "source": [
    "----------------------------------\n",
    "\n",
    "## What's next?\n",
    "\n",
    "So this was obviously way too quick and dense, but hopefully it gives you some foundation in Python.\n",
    "The best way to learn is by doing (a perk of programming—compared to other disciplines, learning is relatively low risk with rapid feedback), so we encourage you to jump right into your assignments and look stuff up as you go. \n",
    "If something is confusing, you can look it up on Google (some popular sites for Q&A inculde Stack Overflow, Geeks for Geeks, W3Schools) or ask Generative AI."
   ]
  }
 ],
 "metadata": {
  "kernelspec": {
   "display_name": "Python 3 (ipykernel)",
   "language": "python",
   "name": "python3"
  },
  "language_info": {
   "codemirror_mode": {
    "name": "ipython",
    "version": 3
   },
   "file_extension": ".py",
   "mimetype": "text/x-python",
   "name": "python",
   "nbconvert_exporter": "python",
   "pygments_lexer": "ipython3",
   "version": "3.12.9"
  },
  "widgets": {
   "application/vnd.jupyter.widget-state+json": {
    "state": {},
    "version_major": 2,
    "version_minor": 0
   }
  }
 },
 "nbformat": 4,
 "nbformat_minor": 4
}
