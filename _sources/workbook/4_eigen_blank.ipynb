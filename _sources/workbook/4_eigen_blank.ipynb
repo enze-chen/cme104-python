{
 "cells": [
  {
   "cell_type": "markdown",
   "metadata": {
    "editable": true,
    "slideshow": {
     "slide_type": ""
    },
    "tags": [
     "remove-output"
    ]
   },
   "source": [
    "# Eigenvalues and eigenvectors - Your turn"
   ]
  },
  {
   "cell_type": "markdown",
   "metadata": {},
   "source": [
    "![mass spring 3](../assets/fig/4_mass-spring-3.png)\n",
    "\n",
    "Three blocks of mass $m$ are placed in between four springs with constant $k$.\n",
    "A system of equations can be set up such that\n",
    "\n",
    "$$ \\begin{align*}\n",
    "m \\ddot{x}_1 &= -2kx_1 + kx_2 \\\\\n",
    "m \\ddot{x}_2 &= kx_1 - 2kx_2 + kx_3 \\\\\n",
    "m \\ddot{x}_3 &= kx_2 - 2kx_3\n",
    "\\end{align*} $$\n",
    "\n",
    "If $k = 1.5$, $m = 2$, and the initial displacement of the blocks are $x_1 = 0.1$, $x_2 = -0.9$, $x_3 = 0.3$, find the equation of the position of the blocks as a function of time.\n",
    "Plot the displacement of the blocks as a function of time with $dt=0.01$ for the first _thirty_ seconds.\n",
    "Draw a picture of the mode shapes of the blocks."
   ]
  },
  {
   "cell_type": "code",
   "execution_count": null,
   "metadata": {
    "editable": true,
    "slideshow": {
     "slide_type": ""
    },
    "tags": [
     "remove-output"
    ]
   },
   "outputs": [],
   "source": [
    "# TODO: Write your solution below\n"
   ]
  },
  {
   "cell_type": "markdown",
   "metadata": {},
   "source": []
  },
  {
   "cell_type": "markdown",
   "metadata": {},
   "source": [
    "## Exporting your work\n",
    "\n",
    "When you're ready, the easiest way to export the notebook is to `File > Print` it and save it as a PDF. \n",
    "Remove any excessively long, unrelated outputs first by clicking the arrow → next to the output box and then `Show/hide output`. \n",
    "Obviously don't obscure any necessary output or graphs!"
   ]
  }
 ],
 "metadata": {
  "kernelspec": {
   "display_name": "Python 3 (ipykernel)",
   "language": "python",
   "name": "python3"
  },
  "language_info": {
   "codemirror_mode": {
    "name": "ipython",
    "version": 3
   },
   "file_extension": ".py",
   "mimetype": "text/x-python",
   "name": "python",
   "nbconvert_exporter": "python",
   "pygments_lexer": "ipython3",
   "version": "3.12.9"
  },
  "widgets": {
   "application/vnd.jupyter.widget-state+json": {
    "state": {},
    "version_major": 2,
    "version_minor": 0
   }
  }
 },
 "nbformat": 4,
 "nbformat_minor": 4
}
