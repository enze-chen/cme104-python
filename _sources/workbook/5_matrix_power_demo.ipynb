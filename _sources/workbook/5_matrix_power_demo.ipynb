{
 "cells": [
  {
   "cell_type": "markdown",
   "metadata": {},
   "source": [
    "# Power of a matrix\n",
    "\n",
    "In many situations, we have to continually apply (i.e., multiply by) a matrix multiple times. \n",
    "Here we will demonstrate how to compute the power of a matrix, which we denote as $A^n$ (multiply by $A$ a total of $n$ times).\n",
    "\n",
    "```{caution}\n",
    "For $A^n$, we are performing matrix multiplication $n$ times, **not** raising each element of $A$ to the $n$th power.\n",
    "```"
   ]
  },
  {
   "cell_type": "markdown",
   "metadata": {},
   "source": [
    "## Summary of commands\n",
    "\n",
    "In this exercise, we will demonstrate the following:\n",
    "- [`np.linalg.matrix_power(M, n)`](https://numpy.org/doc/stable/reference/generated/numpy.linalg.matrix_power.html) - Raise a square matrix `M` to the `n` power.\n",
    "- [`np.diag(M, k)`](https://numpy.org/doc/stable/reference/generated/numpy.diag.html)\n",
    "  - If `M` is a 2D array, extract the `k`th diagonal elements as a 1D array.\n",
    "  - If `M` is a 1D array, insert it into the `k` diagonal of a zero matrix."
   ]
  },
  {
   "cell_type": "markdown",
   "metadata": {},
   "source": [
    "## Demo\n",
    "\n",
    "Given the matrix $A = \\begin{bmatrix} 2 & 9 \\\\ 4 & -3 \\end{bmatrix}$, calculate $A^5$ directly, and then using the diagonalization method."
   ]
  },
  {
   "cell_type": "code",
   "execution_count": 6,
   "metadata": {},
   "outputs": [
    {
     "name": "stdout",
     "output_type": "stream",
     "text": [
      "[[  212 17019]\n",
      " [ 7564 -9243]]\n",
      "[[  212. 17019.]\n",
      " [ 7564. -9243.]]\n"
     ]
    }
   ],
   "source": [
    "# import libraries\n",
    "import numpy as np\n",
    "\n",
    "# initialize\n",
    "A = np.array([[2, 9], [4, -3]])\n",
    "\n",
    "# direct computation\n",
    "res = np.linalg.matrix_power(A, 5)   # do NOT use ** !\n",
    "print(res)\n",
    "\n",
    "# diagonalization\n",
    "D, V = np.linalg.eig(A)\n",
    "res = V @ np.diag(D ** 5) @ np.linalg.inv(V)\n",
    "print(res)"
   ]
  }
 ],
 "metadata": {
  "kernelspec": {
   "display_name": "Python 3 (ipykernel)",
   "language": "python",
   "name": "python3"
  },
  "language_info": {
   "codemirror_mode": {
    "name": "ipython",
    "version": 3
   },
   "file_extension": ".py",
   "mimetype": "text/x-python",
   "name": "python",
   "nbconvert_exporter": "python",
   "pygments_lexer": "ipython3",
   "version": "3.12.9"
  },
  "widgets": {
   "application/vnd.jupyter.widget-state+json": {
    "state": {},
    "version_major": 2,
    "version_minor": 0
   }
  }
 },
 "nbformat": 4,
 "nbformat_minor": 4
}
