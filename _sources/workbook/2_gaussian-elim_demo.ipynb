{
 "cells": [
  {
   "cell_type": "markdown",
   "metadata": {},
   "source": [
    "# Gaussian elimination\n",
    "\n",
    "```{admonition} Important!\n",
    ":class: tip\n",
    "If you're completely new to Python, you may want to go through the exercises in the {doc}`../tutorials/1_fund-python_blank` notebook first!\n",
    "```\n",
    "\n",
    "To solve matrix equations of the form $A \\vec{x} = \\vec{b}$, one of the most popular algorithms is **Gaussian elimination**.\n",
    "It is also known as **row reduction**, as one applies successive elementary row operations until the lower left-hand corner of the matrix is all zeros.\n",
    "Since you have already practiced this manually, let's see how we can do the same in Python."
   ]
  },
  {
   "cell_type": "markdown",
   "metadata": {},
   "source": [
    "## Summary of commands\n",
    "\n",
    "In this exercise, we will demonstrate the following:\n",
    "- [`np.linalg.matrix_rank(A)`](https://numpy.org/doc/stable/reference/generated/numpy.linalg.matrix_rank.html) - Returns the rank of a matrix `A`.\n",
    "- [`np.linalg.inv(A)`](https://numpy.org/doc/stable/reference/generated/numpy.linalg.inv.html) - Returns the inverse of a matrix `A`.\n",
    "- [`sympy_matrix.rref()[0]`](https://docs.sympy.org/latest/tutorials/intro-tutorial/matrices.html#rref) - Returns the reduced row echelon form of a `Matrix` object in SymPy.\n",
    "    - This method is from the [SymPy](https://www.sympy.org/en/index.html) library, which is a popular option for symbolic computation.\n",
    "      We don't want to throw too many libraries at you, but this one is the most straightforward way of computing the reduced row-echelon form."
   ]
  },
  {
   "cell_type": "markdown",
   "metadata": {},
   "source": [
    "## Demo\n",
    "\n",
    "Find the rank and solution (if it exists) to the following system of equations:\n",
    "\n",
    "$$ \\begin{align*}\n",
    "7y + 3z &= -12 \\\\\n",
    "2x + 8y + z &= 0 \\\\\n",
    "-5x + 2y - 9z &= 26\n",
    "\\end{align*} $$\n",
    "\n",
    "using the reduced row echelon method, inverse method, and Gaussian elimination method."
   ]
  },
  {
   "cell_type": "code",
   "execution_count": 1,
   "metadata": {},
   "outputs": [
    {
     "name": "stdout",
     "output_type": "stream",
     "text": [
      "Rank of A:\n",
      "3\n",
      "\n",
      "Reduced row echelon form of A:\n"
     ]
    },
    {
     "data": {
      "text/latex": [
       "$\\displaystyle \\left[\\begin{matrix}1 & 0 & 0 & 2\\\\0 & 1 & 0 & 0\\\\0 & 0 & 1 & -4\\end{matrix}\\right]$"
      ],
      "text/plain": [
       "Matrix([\n",
       "[1, 0, 0,  2],\n",
       "[0, 1, 0,  0],\n",
       "[0, 0, 1, -4]])"
      ]
     },
     "metadata": {},
     "output_type": "display_data"
    },
    {
     "name": "stdout",
     "output_type": "stream",
     "text": [
      "\n",
      "Solution of A*x = b:\n",
      "[[ 2.]\n",
      " [ 0.]\n",
      " [-4.]]\n",
      "\n",
      "Solution of A*x = b:\n",
      "[[ 2.]\n",
      " [ 0.]\n",
      " [-4.]]\n"
     ]
    }
   ],
   "source": [
    "# initialize the matrix\n",
    "import numpy as np\n",
    "A = np.array([[0, 7, 3, -12], [2, 8, 1, 0], [-5, 2, -9, 26]])\n",
    "\n",
    "# calculate and display its rank\n",
    "Arank = np.linalg.matrix_rank(A)\n",
    "print(\"Rank of A:\")\n",
    "print(Arank)\n",
    "print()\n",
    "\n",
    "# calculate and display reduced row echelon form\n",
    "from sympy import Matrix\n",
    "A_sympy = Matrix(A)\n",
    "print(\"Reduced row echelon form of A:\")\n",
    "display(A_sympy.rref()[0])\n",
    "print()\n",
    "\n",
    "# calculate and display inverse method\n",
    "A = np.array([[0, 7, 3], [2, 8, 1], [-5, 2, -9]])\n",
    "b = np.array([[-12], [0], [26]])\n",
    "x = np.linalg.inv(A) @ b\n",
    "print(\"Solution of A*x = b:\")\n",
    "print(x)\n",
    "print()\n",
    "\n",
    "# solve using Gaussian elimination\n",
    "x = np.linalg.solve(A, b)\n",
    "print(\"Solution of A*x = b:\")\n",
    "print(x)"
   ]
  },
  {
   "cell_type": "markdown",
   "metadata": {},
   "source": [
    "```{note}\n",
    "The function `rref()` needs a matrix input in the form of $ A = \\begin{bmatrix} x_1 & y_1 & z_1 & \\cdots & c_1 \\\\ x_2 & y_2 & z_2 & \\cdots & c_2 \\\\ \\cdots & \\cdots & \\cdots & \\cdots & \\cdots \\end{bmatrix}$.      \n",
    "For the matrix that `rref()` produces, the last column contains the solutions for the matrix.\n",
    "The first element is the solution for $x$, the second for $y$, and the last for $z$.\n",
    "```"
   ]
  }
 ],
 "metadata": {
  "kernelspec": {
   "display_name": "Python 3 (ipykernel)",
   "language": "python",
   "name": "python3"
  },
  "language_info": {
   "codemirror_mode": {
    "name": "ipython",
    "version": 3
   },
   "file_extension": ".py",
   "mimetype": "text/x-python",
   "name": "python",
   "nbconvert_exporter": "python",
   "pygments_lexer": "ipython3",
   "version": "3.12.9"
  },
  "widgets": {
   "application/vnd.jupyter.widget-state+json": {
    "state": {},
    "version_major": 2,
    "version_minor": 0
   }
  }
 },
 "nbformat": 4,
 "nbformat_minor": 4
}
