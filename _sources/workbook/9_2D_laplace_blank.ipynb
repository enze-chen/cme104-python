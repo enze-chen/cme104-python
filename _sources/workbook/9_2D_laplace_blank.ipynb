{
 "cells": [
  {
   "cell_type": "markdown",
   "metadata": {
    "editable": true,
    "slideshow": {
     "slide_type": ""
    },
    "tags": [
     "remove-output"
    ]
   },
   "source": [
    "# 2D Laplace equation - Your turn"
   ]
  },
  {
   "cell_type": "markdown",
   "metadata": {},
   "source": [
    "A rectangular plate that is insulated on its two sides and is bounded by \n",
    "\n",
    "$$ \\begin{alignat}{2}\n",
    "x &= 0, \\quad x &&= \\pi \\\\\n",
    "y &= 0, \\quad y &&= \\pi\n",
    "\\end{alignat} $$\n",
    "\n",
    "The temperatures at the boundaries are \n",
    "\n",
    "$$ \\begin{alignat}{2} \n",
    "T(x, 0) &= 0, \\quad \\dfrac{\\partial T}{\\partial x} \\bigg|_{x=\\pi,y} &&= 0 \\\\\n",
    "\\dfrac{\\partial T}{\\partial x} \\bigg|_{x=0, y} &= 0, \\quad T(x, \\pi) &&= 100 \\sin(x)\n",
    "\\end{alignat} $$\n",
    "\n",
    "The steady-state temperature distribution is governed by $\\dfrac{\\partial^2 T}{\\partial x^2} + \\dfrac{\\partial^2 T}{\\partial y^2} = 0$.\n",
    "The solution is:\n",
    "\n",
    "$$ T(x,y) = \\dfrac{200}{\\pi^2} y - \\sum_{n=\\text{even}}^{\\infty} \\dfrac{400}{\\pi} \\dfrac{\\sinh(n y)}{(n^2 - 1) \\sinh(n \\pi)} \\cos(nx)$$\n",
    "\n",
    "Plot this temperature distribution."
   ]
  },
  {
   "cell_type": "code",
   "execution_count": null,
   "metadata": {
    "editable": true,
    "slideshow": {
     "slide_type": ""
    },
    "tags": [
     "remove-output"
    ]
   },
   "outputs": [],
   "source": [
    "# TODO: Write your solution below\n"
   ]
  },
  {
   "cell_type": "markdown",
   "metadata": {},
   "source": [
    "## Exporting your work\n",
    "\n",
    "When you're ready, the easiest way to export the notebook is to `File > Print` it and save it as a PDF. \n",
    "Remove any excessively long, unrelated outputs first by clicking the arrow → next to the output box and then `Show/hide output`. \n",
    "Obviously don't obscure any necessary output or graphs!"
   ]
  }
 ],
 "metadata": {
  "kernelspec": {
   "display_name": "Python 3 (ipykernel)",
   "language": "python",
   "name": "python3"
  },
  "language_info": {
   "codemirror_mode": {
    "name": "ipython",
    "version": 3
   },
   "file_extension": ".py",
   "mimetype": "text/x-python",
   "name": "python",
   "nbconvert_exporter": "python",
   "pygments_lexer": "ipython3",
   "version": "3.12.9"
  },
  "widgets": {
   "application/vnd.jupyter.widget-state+json": {
    "state": {},
    "version_major": 2,
    "version_minor": 0
   }
  }
 },
 "nbformat": 4,
 "nbformat_minor": 4
}
