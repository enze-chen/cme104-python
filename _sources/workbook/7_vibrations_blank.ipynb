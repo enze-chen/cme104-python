{
 "cells": [
  {
   "cell_type": "markdown",
   "metadata": {
    "editable": true,
    "slideshow": {
     "slide_type": ""
    },
    "tags": [
     "remove-output"
    ]
   },
   "source": [
    "# Forced vibrations - Your turn"
   ]
  },
  {
   "cell_type": "markdown",
   "metadata": {},
   "source": [
    "![vibrations](../assets/fig/7_vibrations.png)\n",
    "\n",
    "You're in your car driving on a rough road.\n",
    "Suppose that the shape of the road is given by the equation:\n",
    "\n",
    "$$ x(t) = \\begin{cases} \\dfrac{t}{T} - \\dfrac{1}{2} & 0 < t < T \\\\ -\\dfrac{t}{T} - \\dfrac{1}{2} & T < t < 2T \\end{cases} $$\n",
    "\n",
    "The mass of the car is $m = 1.5 \\times 10^3$ kg.\n",
    "\n",
    "Newton's law applied to the point above the suspension gives:\n",
    "\n",
    "$$ m \\dfrac{d^2y}{dt^2} = -k(y - x) - c \\left( \\dfrac{dy}{dt} - \\dfrac{dx}{dt} \\right) \\tag{1} $$\n",
    "\n",
    "with\n",
    "- $y(t)$ the displacement of the point $A$.\n",
    "- $x(t)$ the shape of the road.\n",
    "\n",
    "Equation 1 can be rewritten as:\n",
    "\n",
    "$$ m \\dfrac{d^2y}{dt^2} + c \\dfrac{dy}{dt} + ky = kx + c \\dfrac{dx}{dt} $$\n",
    "\n",
    "Assuming the solution of the form $y(t) = \\sum_{n=1}^{\\infty} A_n \\cos(n \\pi t) + B_n \\sin (n \\pi t)$, we obtain the following Fourier series representation for $y$:\n",
    "\n",
    "$$ y(t) = \\sum_{n\\ \\text{odd}} A_n \\cos \\left( \\dfrac{n\\pi t}{T} \\right) + B_n \\sin \\left( \\dfrac{n\\pi t}{T} \\right) $$\n",
    "\n",
    "with $A_n = \\dfrac{C_2 C_3 - C_1 C_4}{C_1^2 + C_2^2}$ and $B_n = \\dfrac{C_3 - C_2 A_n}{C_1}$, where\n",
    "\n",
    "$$ C_1 = \\dfrac{c \\pi n}{T}, \\quad C_2 = k - \\dfrac{m \\pi^2 n^2}{T^2}, \\quad C_3 = -\\dfrac{4k}{n^2\\pi^2}, \\quad C_4 = \\dfrac{4c}{n \\pi T} $$"
   ]
  },
  {
   "cell_type": "markdown",
   "metadata": {},
   "source": [
    "## Part (a)\n",
    "\n",
    "Using the equations above, write a code which computes the displacement of point $A$.\n",
    "Test your code with the following cases: $T = 5$ s, $\\Delta t = 0.05$ s.\n",
    "\n",
    "| Case | Stiffness $k$ (m/s²) | Damping constant $c$ (m/s)|\n",
    "| ---- | ------------: | ------------: |\n",
    "|   1  |        $10^4$ |         $100$ |\n",
    "|   2  |        $10^5$ |         $100$ |\n",
    "|   3  |        $10^6$ |         $100$ |\n",
    "|   4  |        $10^5$ |          $10$ |\n",
    "|   5  |        $10^5$ |        $1000$ |\n",
    "\n",
    "In each case, plot the vertical displacement as a function of time for $t$ between $0$ and $4T$ and the contribution of each frequency to the displacement using the `ax.stem()` command."
   ]
  },
  {
   "cell_type": "code",
   "execution_count": null,
   "metadata": {
    "editable": true,
    "slideshow": {
     "slide_type": ""
    },
    "tags": [
     "remove-output"
    ]
   },
   "outputs": [],
   "source": [
    "# TODO: Write your solution below\n"
   ]
  },
  {
   "cell_type": "markdown",
   "metadata": {},
   "source": [
    "## Part (b)\n",
    "\n",
    "What are the effects of $k$ and $c$ on the displacement of point $A$?"
   ]
  },
  {
   "cell_type": "markdown",
   "metadata": {},
   "source": [
    "### TODO: Write your answer in the space below\n",
    "\n"
   ]
  },
  {
   "cell_type": "markdown",
   "metadata": {},
   "source": [
    "## Exporting your work\n",
    "\n",
    "When you're ready, the easiest way to export the notebook is to `File > Print` it and save it as a PDF. \n",
    "Remove any excessively long, unrelated outputs first by clicking the arrow → next to the output box and then `Show/hide output`. \n",
    "Obviously don't obscure any necessary output or graphs!"
   ]
  }
 ],
 "metadata": {
  "kernelspec": {
   "display_name": "Python 3 (ipykernel)",
   "language": "python",
   "name": "python3"
  },
  "language_info": {
   "codemirror_mode": {
    "name": "ipython",
    "version": 3
   },
   "file_extension": ".py",
   "mimetype": "text/x-python",
   "name": "python",
   "nbconvert_exporter": "python",
   "pygments_lexer": "ipython3",
   "version": "3.12.9"
  },
  "widgets": {
   "application/vnd.jupyter.widget-state+json": {
    "state": {},
    "version_major": 2,
    "version_minor": 0
   }
  }
 },
 "nbformat": 4,
 "nbformat_minor": 4
}
